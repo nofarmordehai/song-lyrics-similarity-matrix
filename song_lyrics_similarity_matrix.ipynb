{
  "nbformat": 4,
  "nbformat_minor": 0,
  "metadata": {
    "colab": {
      "name": "song-lyrics-similarity-matrix.ipynb",
      "provenance": [],
      "collapsed_sections": [
        "-H3mNF6N0mYU"
      ],
      "authorship_tag": "ABX9TyNNKyjyKDQ86IZf3sO3+OXc",
      "include_colab_link": true
    },
    "kernelspec": {
      "name": "python3",
      "display_name": "Python 3"
    }
  },
  "cells": [
    {
      "cell_type": "markdown",
      "metadata": {
        "id": "view-in-github",
        "colab_type": "text"
      },
      "source": [
        "<a href=\"https://colab.research.google.com/github/nofarmordehai/song-lyrics-similarity-matrix/blob/master/song_lyrics_similarity_matrix.ipynb\" target=\"_parent\"><img src=\"https://colab.research.google.com/assets/colab-badge.svg\" alt=\"Open In Colab\"/></a>"
      ]
    },
    {
      "cell_type": "markdown",
      "metadata": {
        "id": "hxCS4RhSUaRn",
        "colab_type": "text"
      },
      "source": [
        "**Every song have a matrix :)**"
      ]
    },
    {
      "cell_type": "markdown",
      "metadata": {
        "id": "afUHrGIoVgd4",
        "colab_type": "text"
      },
      "source": [
        "**step 0:** Run the following two lines; import the necessary libraries and connect to your Google Drive."
      ]
    },
    {
      "cell_type": "code",
      "metadata": {
        "id": "oplg0VYOVjuD",
        "colab_type": "code",
        "colab": {}
      },
      "source": [
        "import numpy as np\n",
        "\n",
        "import matplotlib.pyplot as plt\n",
        "from matplotlib import cm\n",
        "from matplotlib.colors import ListedColormap, LinearSegmentedColormap"
      ],
      "execution_count": null,
      "outputs": []
    },
    {
      "cell_type": "code",
      "metadata": {
        "id": "7-r3vbfMR_Co",
        "colab_type": "code",
        "colab": {
          "base_uri": "https://localhost:8080/",
          "height": 35
        },
        "outputId": "42ec7c89-d106-4938-a422-4fc8a5f51fb9"
      },
      "source": [
        "from google.colab import drive\n",
        "drive.mount('/content/drive')"
      ],
      "execution_count": null,
      "outputs": [
        {
          "output_type": "stream",
          "text": [
            "Drive already mounted at /content/drive; to attempt to forcibly remount, call drive.mount(\"/content/drive\", force_remount=True).\n"
          ],
          "name": "stdout"
        }
      ]
    },
    {
      "cell_type": "markdown",
      "metadata": {
        "id": "esFOMy5AWIqZ",
        "colab_type": "text"
      },
      "source": [
        "**step 1:** run this functions\n",
        "\n",
        "! change \"allowed\" variable in \"clean_word\" function, if you want lyrics to songs in a language other than Hebrew or English\n",
        "\n",
        "lyrics -> list of clean words (without punctuation etc.) -> similarity matrix (matrix[i, j] = 1 if song_words[i] == song_words[j]) -> plot this matrix\n",
        "\n",
        "        "
      ]
    },
    {
      "cell_type": "markdown",
      "metadata": {
        "id": "-H3mNF6N0mYU",
        "colab_type": "text"
      },
      "source": [
        "# functions"
      ]
    },
    {
      "cell_type": "code",
      "metadata": {
        "id": "FIjaFjJ-Ulz4",
        "colab_type": "code",
        "colab": {}
      },
      "source": [
        "# song words list\n",
        "\n",
        "def create_song_words_lst(path):\n",
        "  file = open(path, \"r\")\n",
        "  lst = []\n",
        "  for line in file:\n",
        "    stripped_line = line.strip()\n",
        "    for word in stripped_line.split():\n",
        "      clean = clean_word(word)\n",
        "      lst.append(clean)\n",
        "  file.close()\n",
        "  return lst\n",
        "\n",
        "def clean_word(word):\n",
        "  clean = word.replace(u'\\u200e', '')\n",
        "  clean = clean.lower()\n",
        "  # change \"allowed\" if you want other than Hebrew or English\n",
        "  allowed = 'abcdefghijklmnopqrstuvwxyz0123456789אבגדהוזחטיכלמנסעפצקרשתםףץן'\n",
        "  for ch in word:\n",
        "    if ch not in allowed:\n",
        "      clean = clean.replace(ch, '')\n",
        "  return(clean)"
      ],
      "execution_count": null,
      "outputs": []
    },
    {
      "cell_type": "code",
      "metadata": {
        "id": "ugKDsI76h__O",
        "colab_type": "code",
        "colab": {}
      },
      "source": [
        "# song matrix \n",
        "\n",
        "def create_song_matrix(song_words):\n",
        "  size = len(song_words)\n",
        "  matrix = np.zeros((size, size))\n",
        "  for i in range(size):\n",
        "    for j in range(size):\n",
        "      if song_words[i] == song_words[j]:\n",
        "        matrix[i, j] = 1\n",
        "  return matrix"
      ],
      "execution_count": null,
      "outputs": []
    },
    {
      "cell_type": "code",
      "metadata": {
        "id": "LEI2glpkPphI",
        "colab_type": "code",
        "colab": {}
      },
      "source": [
        "# plot matrix\n",
        "# https://matplotlib.org/3.1.1/tutorials/colors/colormap-manipulation.html\n",
        "\n",
        "def create_song_plot(data):\n",
        "    top = cm.get_cmap('Oranges_r', 128)\n",
        "    bottom = cm.get_cmap('Blues', 128)\n",
        "    newcolors = np.vstack((top(np.linspace(0, 1, 128)),\n",
        "                       bottom(np.linspace(0, 1, 128))))\n",
        "    cmap = ListedColormap(newcolors, name='OrangeBlue')\n",
        "    \n",
        "    fig, ax = plt.subplots(1, 1, figsize=(7, 7), constrained_layout=True)\n",
        "    psm = ax.pcolormesh(data, cmap=cmap, rasterized=True, vmin=-1, vmax=1)\n",
        "    #fig.colorbar(psm, ax=ax)\n",
        "    plt.show()"
      ],
      "execution_count": null,
      "outputs": []
    },
    {
      "cell_type": "code",
      "metadata": {
        "id": "_Z0AajysxJBc",
        "colab_type": "code",
        "colab": {}
      },
      "source": [
        "# repetition ratio = count repetition/matrix size (minus the diagonal)\n",
        "\n",
        "def clac_repetition_ratio(song_matrix):\n",
        "  size = song_matrix.shape[0]\n",
        "  sum_mat = np.sum(song_matrix)\n",
        "  repeat = (sum_mat-size)/((size*size)-size)\n",
        "  return round((repeat*100),2)"
      ],
      "execution_count": null,
      "outputs": []
    },
    {
      "cell_type": "code",
      "metadata": {
        "id": "PbXWlrv5wX64",
        "colab_type": "code",
        "colab": {}
      },
      "source": [
        "# all process together \n",
        "\n",
        "def from_song_lyrics_to_plot(path):\n",
        "  words = create_song_words_lst(path)\n",
        "  #print(words)\n",
        "  #print(\"The song has\",len(words),\"words\")\n",
        "  #print(set(words))\n",
        "  #print(\"The song has\",len(set(words)),\"uniqe words\")\n",
        "  \n",
        "  song_matrix = create_song_matrix(words)\n",
        "  create_song_plot(song_matrix)\n",
        "  print(clac_repetition_ratio(song_matrix),'% repetition ratio')"
      ],
      "execution_count": 166,
      "outputs": []
    },
    {
      "cell_type": "markdown",
      "metadata": {
        "id": "gVMIXXEI17ZA",
        "colab_type": "text"
      },
      "source": [
        "# try it!\n",
        "\n",
        "**step 2:** Change folder path, song name and insert there song lyrics txt file "
      ]
    },
    {
      "cell_type": "code",
      "metadata": {
        "id": "f2FByJVdUNBD",
        "colab_type": "code",
        "colab": {}
      },
      "source": [
        "main_path = '/content/drive/My Drive/Colab Notebooks/song_matrix/' #'/content/drive/My Drive/...' complete your drive path\n",
        "#song_name = \"million dollar.txt\" # 3.6% Noa Kirel - million dollar\n",
        "song_name = \"all you need is love.txt\" # 10.9%"
      ],
      "execution_count": 170,
      "outputs": []
    },
    {
      "cell_type": "code",
      "metadata": {
        "id": "XWKR5q-gYK85",
        "colab_type": "code",
        "colab": {
          "base_uri": "https://localhost:8080/",
          "height": 547
        },
        "outputId": "25f1a70c-0938-439f-80a0-5c13b9c0d8eb"
      },
      "source": [
        "from_song_lyrics_to_plot(main_path + song_name)"
      ],
      "execution_count": 171,
      "outputs": [
        {
          "output_type": "display_data",
          "data": {
            "image/png": "[encoded data removed]",
            "text/plain": [
              "<Figure size 504x504 with 1 Axes>"
            ]
          },
          "metadata": {
            "tags": [],
            "needs_background": "light"
          }
        },
        {
          "output_type": "stream",
          "text": [
            "10.98 % repetition ratio\n"
          ],
          "name": "stdout"
        }
      ]
    }
  ]
}